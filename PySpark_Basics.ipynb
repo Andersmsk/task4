{
 "cells": [
  {
   "cell_type": "markdown",
   "id": "trained-moses",
   "metadata": {},
   "source": [
    "import libraries(I provide all libs that I need when make this tasks, if you need some external import them here)"
   ]
  },
  {
   "cell_type": "code",
   "execution_count": 2,
   "id": "6cf15cc2",
   "metadata": {},
   "outputs": [],
   "source": [
    "import findspark\n",
    "findspark.init()"
   ]
  },
  {
   "cell_type": "code",
   "execution_count": 3,
   "id": "induced-african",
   "metadata": {},
   "outputs": [],
   "source": [
    "import pyspark\n",
    "import pyspark.sql.functions as F\n",
    "from pyspark.sql import SparkSession\n",
    "from pyspark.sql.types import StructType, StructField, IntegerType, StringType\n",
    "from pyspark.sql.functions import col\n",
    "from pyspark.sql.functions import max, avg, min\n",
    "from pyspark.sql.window import Window\n",
    "from pyspark.sql.functions import row_number\n",
    "from pyspark.sql.functions import when"
   ]
  },
  {
   "cell_type": "markdown",
   "id": "permanent-photographer",
   "metadata": {},
   "source": [
    "create local SparkSession"
   ]
  },
  {
   "cell_type": "code",
   "execution_count": 4,
   "id": "stock-partnership",
   "metadata": {},
   "outputs": [],
   "source": [
    "from pyspark.sql import SparkSession\n",
    "\n",
    "spark = SparkSession \\\n",
    "    .builder \\\n",
    "    .appName(\"My PySpark\") \\\n",
    "    .config(\"spark.some.config.option\", \"some-value\") \\\n",
    "    .getOrCreate()"
   ]
  },
  {
   "cell_type": "markdown",
   "id": "juvenile-blame",
   "metadata": {},
   "source": [
    "read csv with inferschema"
   ]
  },
  {
   "cell_type": "code",
   "execution_count": 5,
   "id": "computational-liverpool",
   "metadata": {},
   "outputs": [],
   "source": [
    "df = spark.read.csv(\"ds_salaries.csv\", header=True, inferSchema=True)"
   ]
  },
  {
   "cell_type": "markdown",
   "id": "stopped-dominant",
   "metadata": {},
   "source": [
    "read csv one more time with the same code and you will see that it almostly don't take time, because info already in SparkSession and it will not read nothing\n",
    "from this file"
   ]
  },
  {
   "cell_type": "code",
   "execution_count": 6,
   "id": "aging-neighborhood",
   "metadata": {
    "scrolled": true
   },
   "outputs": [
    {
     "name": "stdout",
     "output_type": "stream",
     "text": [
      "+---+---------+----------------+---------------+--------------------+--------+---------------+-------------+------------------+------------+----------------+------------+\n",
      "|_c0|work_year|experience_level|employment_type|           job_title|  salary|salary_currency|salary_in_usd|employee_residence|remote_ratio|company_location|company_size|\n",
      "+---+---------+----------------+---------------+--------------------+--------+---------------+-------------+------------------+------------+----------------+------------+\n",
      "|  0|     2020|              MI|             FT|      Data Scientist|   70000|            EUR|        79833|                DE|           0|              DE|           L|\n",
      "|  1|     2020|              SE|             FT|Machine Learning ...|  260000|            USD|       260000|                JP|           0|              JP|           S|\n",
      "|  2|     2020|              SE|             FT|   Big Data Engineer|   85000|            GBP|       109024|                GB|          50|              GB|           M|\n",
      "|  3|     2020|              MI|             FT|Product Data Analyst|   20000|            USD|        20000|                HN|           0|              HN|           S|\n",
      "|  4|     2020|              SE|             FT|Machine Learning ...|  150000|            USD|       150000|                US|          50|              US|           L|\n",
      "|  5|     2020|              EN|             FT|        Data Analyst|   72000|            USD|        72000|                US|         100|              US|           L|\n",
      "|  6|     2020|              SE|             FT| Lead Data Scientist|  190000|            USD|       190000|                US|         100|              US|           S|\n",
      "|  7|     2020|              MI|             FT|      Data Scientist|11000000|            HUF|        35735|                HU|          50|              HU|           L|\n",
      "|  8|     2020|              MI|             FT|Business Data Ana...|  135000|            USD|       135000|                US|         100|              US|           L|\n",
      "|  9|     2020|              SE|             FT|  Lead Data Engineer|  125000|            USD|       125000|                NZ|          50|              NZ|           S|\n",
      "| 10|     2020|              EN|             FT|      Data Scientist|   45000|            EUR|        51321|                FR|           0|              FR|           S|\n",
      "| 11|     2020|              MI|             FT|      Data Scientist| 3000000|            INR|        40481|                IN|           0|              IN|           L|\n",
      "| 12|     2020|              EN|             FT|      Data Scientist|   35000|            EUR|        39916|                FR|           0|              FR|           M|\n",
      "| 13|     2020|              MI|             FT|   Lead Data Analyst|   87000|            USD|        87000|                US|         100|              US|           L|\n",
      "| 14|     2020|              MI|             FT|        Data Analyst|   85000|            USD|        85000|                US|         100|              US|           L|\n",
      "| 15|     2020|              MI|             FT|        Data Analyst|    8000|            USD|         8000|                PK|          50|              PK|           L|\n",
      "| 16|     2020|              EN|             FT|       Data Engineer| 4450000|            JPY|        41689|                JP|         100|              JP|           S|\n",
      "| 17|     2020|              SE|             FT|   Big Data Engineer|  100000|            EUR|       114047|                PL|         100|              GB|           S|\n",
      "| 18|     2020|              EN|             FT|Data Science Cons...|  423000|            INR|         5707|                IN|          50|              IN|           M|\n",
      "| 19|     2020|              MI|             FT|  Lead Data Engineer|   56000|            USD|        56000|                PT|         100|              US|           M|\n",
      "+---+---------+----------------+---------------+--------------------+--------+---------------+-------------+------------------+------------+----------------+------------+\n",
      "only showing top 20 rows\n",
      "\n"
     ]
    }
   ],
   "source": [
    "df.show()"
   ]
  },
  {
   "cell_type": "markdown",
   "id": "c8ad1936",
   "metadata": {},
   "source": [
    "write schema of scv on screen"
   ]
  },
  {
   "cell_type": "code",
   "execution_count": 7,
   "id": "least-communications",
   "metadata": {
    "scrolled": false
   },
   "outputs": [
    {
     "name": "stdout",
     "output_type": "stream",
     "text": [
      "root\n",
      " |-- _c0: integer (nullable = true)\n",
      " |-- work_year: integer (nullable = true)\n",
      " |-- experience_level: string (nullable = true)\n",
      " |-- employment_type: string (nullable = true)\n",
      " |-- job_title: string (nullable = true)\n",
      " |-- salary: integer (nullable = true)\n",
      " |-- salary_currency: string (nullable = true)\n",
      " |-- salary_in_usd: integer (nullable = true)\n",
      " |-- employee_residence: string (nullable = true)\n",
      " |-- remote_ratio: integer (nullable = true)\n",
      " |-- company_location: string (nullable = true)\n",
      " |-- company_size: string (nullable = true)\n",
      "\n"
     ]
    }
   ],
   "source": [
    "df.printSchema()"
   ]
  },
  {
   "cell_type": "markdown",
   "id": "connected-brother",
   "metadata": {},
   "source": [
    "create schema of this scv"
   ]
  },
  {
   "cell_type": "code",
   "execution_count": 8,
   "id": "progressive-dictionary",
   "metadata": {},
   "outputs": [],
   "source": [
    "schema = StructType([\n",
    "    StructField(\"_c0\", IntegerType(), nullable=True),\n",
    "    StructField(\"work_year\", IntegerType(), nullable=True),\n",
    "    StructField(\"experience_level\", StringType(), nullable=True),\n",
    "    StructField(\"employment_type\", StringType(), nullable=True),\n",
    "    StructField(\"job_title\", StringType(), nullable=True),\n",
    "    StructField(\"salary\", IntegerType(), nullable=True),\n",
    "    StructField(\"salary_currency\", StringType(), nullable=True),\n",
    "    StructField(\"salary_in_usd\", IntegerType(), nullable=True),\n",
    "    StructField(\"employee_residence\", StringType(), nullable=True),\n",
    "    StructField(\"remote_ratio\", IntegerType(), nullable=True),\n",
    "    StructField(\"company_location\", StringType(), nullable=True),\n",
    "    StructField(\"company_size\", StringType(), nullable=True)\n",
    "])"
   ]
  },
  {
   "cell_type": "markdown",
   "id": "auburn-sauce",
   "metadata": {},
   "source": [
    "restart kernel without cleaning output and after restarting you need to initialize SparkSession, after initialize start execute only cells from cell with schema=\n",
    "=StructType.... \n",
    "To restart kernel click Kernel, Restart."
   ]
  },
  {
   "cell_type": "markdown",
   "id": "artistic-hospital",
   "metadata": {},
   "source": [
    "read ds_salaries with predefined schema and compare results from this cell and cell with inferSchema"
   ]
  },
  {
   "cell_type": "code",
   "execution_count": 9,
   "id": "literary-plaintiff",
   "metadata": {},
   "outputs": [],
   "source": [
    "df = spark.read.csv(\"ds_salaries.csv\", header=True, schema=schema)"
   ]
  },
  {
   "cell_type": "markdown",
   "id": "senior-joint",
   "metadata": {},
   "source": [
    "this happens because read operation is lazy(transformation), but if you use inferschema it start to be action that will create Spark Job, because Spark need to loop throw all file to check datatypes for all columns and this can harm to your code(if we compare to parquet, it will also go to check data types, but parquet provide meta information, so Spark will not go throw all file, he will just read meta information, but csv don't provide such meta information). Also header make Spark to create one more Spark Job to check first line\n",
    "to define name of columns and remember to skeep it when reading. Actual reading start when you will use first action. More about Spark Jobs you will see in next topic"
   ]
  },
  {
   "cell_type": "markdown",
   "id": "underlying-assurance",
   "metadata": {},
   "source": [
    "write schema of scv on screen one more time and compare with previous"
   ]
  },
  {
   "cell_type": "code",
   "execution_count": 10,
   "id": "solid-infection",
   "metadata": {},
   "outputs": [
    {
     "name": "stdout",
     "output_type": "stream",
     "text": [
      "root\n",
      " |-- _c0: integer (nullable = true)\n",
      " |-- work_year: integer (nullable = true)\n",
      " |-- experience_level: string (nullable = true)\n",
      " |-- employment_type: string (nullable = true)\n",
      " |-- job_title: string (nullable = true)\n",
      " |-- salary: integer (nullable = true)\n",
      " |-- salary_currency: string (nullable = true)\n",
      " |-- salary_in_usd: integer (nullable = true)\n",
      " |-- employee_residence: string (nullable = true)\n",
      " |-- remote_ratio: integer (nullable = true)\n",
      " |-- company_location: string (nullable = true)\n",
      " |-- company_size: string (nullable = true)\n",
      "\n"
     ]
    }
   ],
   "source": [
    "df.printSchema()"
   ]
  },
  {
   "cell_type": "markdown",
   "id": "close-water",
   "metadata": {},
   "source": [
    "now continue to work with one of the dataframes that you create"
   ]
  },
  {
   "cell_type": "markdown",
   "id": "piano-belgium",
   "metadata": {},
   "source": [
    "print data in dataframe using df.show"
   ]
  },
  {
   "cell_type": "code",
   "execution_count": 11,
   "id": "legendary-alarm",
   "metadata": {},
   "outputs": [
    {
     "name": "stdout",
     "output_type": "stream",
     "text": [
      "+---+---------+----------------+---------------+--------------------+--------+---------------+-------------+------------------+------------+----------------+------------+\n",
      "|_c0|work_year|experience_level|employment_type|           job_title|  salary|salary_currency|salary_in_usd|employee_residence|remote_ratio|company_location|company_size|\n",
      "+---+---------+----------------+---------------+--------------------+--------+---------------+-------------+------------------+------------+----------------+------------+\n",
      "|  0|     2020|              MI|             FT|      Data Scientist|   70000|            EUR|        79833|                DE|           0|              DE|           L|\n",
      "|  1|     2020|              SE|             FT|Machine Learning ...|  260000|            USD|       260000|                JP|           0|              JP|           S|\n",
      "|  2|     2020|              SE|             FT|   Big Data Engineer|   85000|            GBP|       109024|                GB|          50|              GB|           M|\n",
      "|  3|     2020|              MI|             FT|Product Data Analyst|   20000|            USD|        20000|                HN|           0|              HN|           S|\n",
      "|  4|     2020|              SE|             FT|Machine Learning ...|  150000|            USD|       150000|                US|          50|              US|           L|\n",
      "|  5|     2020|              EN|             FT|        Data Analyst|   72000|            USD|        72000|                US|         100|              US|           L|\n",
      "|  6|     2020|              SE|             FT| Lead Data Scientist|  190000|            USD|       190000|                US|         100|              US|           S|\n",
      "|  7|     2020|              MI|             FT|      Data Scientist|11000000|            HUF|        35735|                HU|          50|              HU|           L|\n",
      "|  8|     2020|              MI|             FT|Business Data Ana...|  135000|            USD|       135000|                US|         100|              US|           L|\n",
      "|  9|     2020|              SE|             FT|  Lead Data Engineer|  125000|            USD|       125000|                NZ|          50|              NZ|           S|\n",
      "| 10|     2020|              EN|             FT|      Data Scientist|   45000|            EUR|        51321|                FR|           0|              FR|           S|\n",
      "| 11|     2020|              MI|             FT|      Data Scientist| 3000000|            INR|        40481|                IN|           0|              IN|           L|\n",
      "| 12|     2020|              EN|             FT|      Data Scientist|   35000|            EUR|        39916|                FR|           0|              FR|           M|\n",
      "| 13|     2020|              MI|             FT|   Lead Data Analyst|   87000|            USD|        87000|                US|         100|              US|           L|\n",
      "| 14|     2020|              MI|             FT|        Data Analyst|   85000|            USD|        85000|                US|         100|              US|           L|\n",
      "| 15|     2020|              MI|             FT|        Data Analyst|    8000|            USD|         8000|                PK|          50|              PK|           L|\n",
      "| 16|     2020|              EN|             FT|       Data Engineer| 4450000|            JPY|        41689|                JP|         100|              JP|           S|\n",
      "| 17|     2020|              SE|             FT|   Big Data Engineer|  100000|            EUR|       114047|                PL|         100|              GB|           S|\n",
      "| 18|     2020|              EN|             FT|Data Science Cons...|  423000|            INR|         5707|                IN|          50|              IN|           M|\n",
      "| 19|     2020|              MI|             FT|  Lead Data Engineer|   56000|            USD|        56000|                PT|         100|              US|           M|\n",
      "+---+---------+----------------+---------------+--------------------+--------+---------------+-------------+------------------+------------+----------------+------------+\n",
      "only showing top 20 rows\n",
      "\n"
     ]
    }
   ],
   "source": [
    "df.show()"
   ]
  },
  {
   "cell_type": "markdown",
   "id": "tamil-medium",
   "metadata": {},
   "source": [
    "print data in dataframe using display(df.toPandas())"
   ]
  },
  {
   "cell_type": "code",
   "execution_count": 12,
   "id": "connected-dryer",
   "metadata": {},
   "outputs": [
    {
     "data": {
      "text/html": [
       "<div>\n",
       "<style scoped>\n",
       "    .dataframe tbody tr th:only-of-type {\n",
       "        vertical-align: middle;\n",
       "    }\n",
       "\n",
       "    .dataframe tbody tr th {\n",
       "        vertical-align: top;\n",
       "    }\n",
       "\n",
       "    .dataframe thead th {\n",
       "        text-align: right;\n",
       "    }\n",
       "</style>\n",
       "<table border=\"1\" class=\"dataframe\">\n",
       "  <thead>\n",
       "    <tr style=\"text-align: right;\">\n",
       "      <th></th>\n",
       "      <th>_c0</th>\n",
       "      <th>work_year</th>\n",
       "      <th>experience_level</th>\n",
       "      <th>employment_type</th>\n",
       "      <th>job_title</th>\n",
       "      <th>salary</th>\n",
       "      <th>salary_currency</th>\n",
       "      <th>salary_in_usd</th>\n",
       "      <th>employee_residence</th>\n",
       "      <th>remote_ratio</th>\n",
       "      <th>company_location</th>\n",
       "      <th>company_size</th>\n",
       "    </tr>\n",
       "  </thead>\n",
       "  <tbody>\n",
       "    <tr>\n",
       "      <th>0</th>\n",
       "      <td>0</td>\n",
       "      <td>2020</td>\n",
       "      <td>MI</td>\n",
       "      <td>FT</td>\n",
       "      <td>Data Scientist</td>\n",
       "      <td>70000</td>\n",
       "      <td>EUR</td>\n",
       "      <td>79833</td>\n",
       "      <td>DE</td>\n",
       "      <td>0</td>\n",
       "      <td>DE</td>\n",
       "      <td>L</td>\n",
       "    </tr>\n",
       "    <tr>\n",
       "      <th>1</th>\n",
       "      <td>1</td>\n",
       "      <td>2020</td>\n",
       "      <td>SE</td>\n",
       "      <td>FT</td>\n",
       "      <td>Machine Learning Scientist</td>\n",
       "      <td>260000</td>\n",
       "      <td>USD</td>\n",
       "      <td>260000</td>\n",
       "      <td>JP</td>\n",
       "      <td>0</td>\n",
       "      <td>JP</td>\n",
       "      <td>S</td>\n",
       "    </tr>\n",
       "    <tr>\n",
       "      <th>2</th>\n",
       "      <td>2</td>\n",
       "      <td>2020</td>\n",
       "      <td>SE</td>\n",
       "      <td>FT</td>\n",
       "      <td>Big Data Engineer</td>\n",
       "      <td>85000</td>\n",
       "      <td>GBP</td>\n",
       "      <td>109024</td>\n",
       "      <td>GB</td>\n",
       "      <td>50</td>\n",
       "      <td>GB</td>\n",
       "      <td>M</td>\n",
       "    </tr>\n",
       "    <tr>\n",
       "      <th>3</th>\n",
       "      <td>3</td>\n",
       "      <td>2020</td>\n",
       "      <td>MI</td>\n",
       "      <td>FT</td>\n",
       "      <td>Product Data Analyst</td>\n",
       "      <td>20000</td>\n",
       "      <td>USD</td>\n",
       "      <td>20000</td>\n",
       "      <td>HN</td>\n",
       "      <td>0</td>\n",
       "      <td>HN</td>\n",
       "      <td>S</td>\n",
       "    </tr>\n",
       "    <tr>\n",
       "      <th>4</th>\n",
       "      <td>4</td>\n",
       "      <td>2020</td>\n",
       "      <td>SE</td>\n",
       "      <td>FT</td>\n",
       "      <td>Machine Learning Engineer</td>\n",
       "      <td>150000</td>\n",
       "      <td>USD</td>\n",
       "      <td>150000</td>\n",
       "      <td>US</td>\n",
       "      <td>50</td>\n",
       "      <td>US</td>\n",
       "      <td>L</td>\n",
       "    </tr>\n",
       "    <tr>\n",
       "      <th>...</th>\n",
       "      <td>...</td>\n",
       "      <td>...</td>\n",
       "      <td>...</td>\n",
       "      <td>...</td>\n",
       "      <td>...</td>\n",
       "      <td>...</td>\n",
       "      <td>...</td>\n",
       "      <td>...</td>\n",
       "      <td>...</td>\n",
       "      <td>...</td>\n",
       "      <td>...</td>\n",
       "      <td>...</td>\n",
       "    </tr>\n",
       "    <tr>\n",
       "      <th>602</th>\n",
       "      <td>602</td>\n",
       "      <td>2022</td>\n",
       "      <td>SE</td>\n",
       "      <td>FT</td>\n",
       "      <td>Data Engineer</td>\n",
       "      <td>154000</td>\n",
       "      <td>USD</td>\n",
       "      <td>154000</td>\n",
       "      <td>US</td>\n",
       "      <td>100</td>\n",
       "      <td>US</td>\n",
       "      <td>M</td>\n",
       "    </tr>\n",
       "    <tr>\n",
       "      <th>603</th>\n",
       "      <td>603</td>\n",
       "      <td>2022</td>\n",
       "      <td>SE</td>\n",
       "      <td>FT</td>\n",
       "      <td>Data Engineer</td>\n",
       "      <td>126000</td>\n",
       "      <td>USD</td>\n",
       "      <td>126000</td>\n",
       "      <td>US</td>\n",
       "      <td>100</td>\n",
       "      <td>US</td>\n",
       "      <td>M</td>\n",
       "    </tr>\n",
       "    <tr>\n",
       "      <th>604</th>\n",
       "      <td>604</td>\n",
       "      <td>2022</td>\n",
       "      <td>SE</td>\n",
       "      <td>FT</td>\n",
       "      <td>Data Analyst</td>\n",
       "      <td>129000</td>\n",
       "      <td>USD</td>\n",
       "      <td>129000</td>\n",
       "      <td>US</td>\n",
       "      <td>0</td>\n",
       "      <td>US</td>\n",
       "      <td>M</td>\n",
       "    </tr>\n",
       "    <tr>\n",
       "      <th>605</th>\n",
       "      <td>605</td>\n",
       "      <td>2022</td>\n",
       "      <td>SE</td>\n",
       "      <td>FT</td>\n",
       "      <td>Data Analyst</td>\n",
       "      <td>150000</td>\n",
       "      <td>USD</td>\n",
       "      <td>150000</td>\n",
       "      <td>US</td>\n",
       "      <td>100</td>\n",
       "      <td>US</td>\n",
       "      <td>M</td>\n",
       "    </tr>\n",
       "    <tr>\n",
       "      <th>606</th>\n",
       "      <td>606</td>\n",
       "      <td>2022</td>\n",
       "      <td>MI</td>\n",
       "      <td>FT</td>\n",
       "      <td>AI Scientist</td>\n",
       "      <td>200000</td>\n",
       "      <td>USD</td>\n",
       "      <td>200000</td>\n",
       "      <td>IN</td>\n",
       "      <td>100</td>\n",
       "      <td>US</td>\n",
       "      <td>L</td>\n",
       "    </tr>\n",
       "  </tbody>\n",
       "</table>\n",
       "<p>607 rows × 12 columns</p>\n",
       "</div>"
      ],
      "text/plain": [
       "     _c0  work_year experience_level employment_type  \\\n",
       "0      0       2020               MI              FT   \n",
       "1      1       2020               SE              FT   \n",
       "2      2       2020               SE              FT   \n",
       "3      3       2020               MI              FT   \n",
       "4      4       2020               SE              FT   \n",
       "..   ...        ...              ...             ...   \n",
       "602  602       2022               SE              FT   \n",
       "603  603       2022               SE              FT   \n",
       "604  604       2022               SE              FT   \n",
       "605  605       2022               SE              FT   \n",
       "606  606       2022               MI              FT   \n",
       "\n",
       "                      job_title  salary salary_currency  salary_in_usd  \\\n",
       "0                Data Scientist   70000             EUR          79833   \n",
       "1    Machine Learning Scientist  260000             USD         260000   \n",
       "2             Big Data Engineer   85000             GBP         109024   \n",
       "3          Product Data Analyst   20000             USD          20000   \n",
       "4     Machine Learning Engineer  150000             USD         150000   \n",
       "..                          ...     ...             ...            ...   \n",
       "602               Data Engineer  154000             USD         154000   \n",
       "603               Data Engineer  126000             USD         126000   \n",
       "604                Data Analyst  129000             USD         129000   \n",
       "605                Data Analyst  150000             USD         150000   \n",
       "606                AI Scientist  200000             USD         200000   \n",
       "\n",
       "    employee_residence  remote_ratio company_location company_size  \n",
       "0                   DE             0               DE            L  \n",
       "1                   JP             0               JP            S  \n",
       "2                   GB            50               GB            M  \n",
       "3                   HN             0               HN            S  \n",
       "4                   US            50               US            L  \n",
       "..                 ...           ...              ...          ...  \n",
       "602                 US           100               US            M  \n",
       "603                 US           100               US            M  \n",
       "604                 US             0               US            M  \n",
       "605                 US           100               US            M  \n",
       "606                 IN           100               US            L  \n",
       "\n",
       "[607 rows x 12 columns]"
      ]
     },
     "execution_count": 12,
     "metadata": {},
     "output_type": "execute_result"
    }
   ],
   "source": [
    "df.toPandas()"
   ]
  },
  {
   "cell_type": "markdown",
   "id": "opponent-gazette",
   "metadata": {},
   "source": [
    "create df_job_title that consists from all job_titles without duplicates"
   ]
  },
  {
   "cell_type": "code",
   "execution_count": 13,
   "id": "friendly-cartridge",
   "metadata": {},
   "outputs": [],
   "source": [
    "df_job_title = df.select(col(\"job_title\")).distinct()"
   ]
  },
  {
   "cell_type": "markdown",
   "id": "offshore-architecture",
   "metadata": {},
   "source": [
    "print all rows from df_job_titles without truncating jobs"
   ]
  },
  {
   "cell_type": "code",
   "execution_count": 14,
   "id": "asian-edition",
   "metadata": {
    "scrolled": true
   },
   "outputs": [
    {
     "name": "stdout",
     "output_type": "stream",
     "text": [
      "+----------------------------------------+\n",
      "|job_title                               |\n",
      "+----------------------------------------+\n",
      "|3D Computer Vision Researcher           |\n",
      "|Lead Data Engineer                      |\n",
      "|Head of Machine Learning                |\n",
      "|Data Specialist                         |\n",
      "|Data Analytics Lead                     |\n",
      "|Machine Learning Scientist              |\n",
      "|Lead Data Analyst                       |\n",
      "|Data Engineering Manager                |\n",
      "|Staff Data Scientist                    |\n",
      "|ETL Developer                           |\n",
      "|Director of Data Engineering            |\n",
      "|Product Data Analyst                    |\n",
      "|Principal Data Scientist                |\n",
      "|AI Scientist                            |\n",
      "|Director of Data Science                |\n",
      "|Machine Learning Engineer               |\n",
      "|Lead Data Scientist                     |\n",
      "|Machine Learning Infrastructure Engineer|\n",
      "|Data Science Engineer                   |\n",
      "|Machine Learning Manager                |\n",
      "|Research Scientist                      |\n",
      "|Head of Data                            |\n",
      "|Cloud Data Engineer                     |\n",
      "|Machine Learning Developer              |\n",
      "|Data Scientist                          |\n",
      "|Finance Data Analyst                    |\n",
      "|Data Analyst                            |\n",
      "|Data Analytics Engineer                 |\n",
      "|Data Science Consultant                 |\n",
      "|Principal Data Engineer                 |\n",
      "|Lead Machine Learning Engineer          |\n",
      "|ML Engineer                             |\n",
      "|Analytics Engineer                      |\n",
      "|Data Science Manager                    |\n",
      "|Business Data Analyst                   |\n",
      "|Principal Data Analyst                  |\n",
      "|Applied Machine Learning Scientist      |\n",
      "|Financial Data Analyst                  |\n",
      "|Data Analytics Manager                  |\n",
      "|Computer Vision Engineer                |\n",
      "|Computer Vision Software Engineer       |\n",
      "|Big Data Engineer                       |\n",
      "|Head of Data Science                    |\n",
      "|NLP Engineer                            |\n",
      "|Big Data Architect                      |\n",
      "|Applied Data Scientist                  |\n",
      "|Data Architect                          |\n",
      "|BI Data Analyst                         |\n",
      "|Marketing Data Analyst                  |\n",
      "|Data Engineer                           |\n",
      "+----------------------------------------+\n",
      "\n"
     ]
    }
   ],
   "source": [
    "df_job_title.show(2000, truncate=False)"
   ]
  },
  {
   "cell_type": "markdown",
   "id": "interim-pharmacy",
   "metadata": {},
   "source": [
    "create  df_analytic that will consists from max, avg, min USD salaries for all job_titles using groupBy. name of fields is avg_salary, min_salary, max_salary"
   ]
  },
  {
   "cell_type": "code",
   "execution_count": 15,
   "id": "naval-roller",
   "metadata": {},
   "outputs": [],
   "source": [
    "df_analytic = df.groupBy(\"job_title\").agg(\n",
    "    avg(\"salary\").alias(\"avg_salary\"),\n",
    "    min(\"salary\").alias(\"min_salary\"),\n",
    "    max(\"salary\").alias(\"max_salary\")\n",
    ")"
   ]
  },
  {
   "cell_type": "markdown",
   "id": "french-pledge",
   "metadata": {},
   "source": [
    "print all rows from df_analytic without trancating jobs"
   ]
  },
  {
   "cell_type": "code",
   "execution_count": 16,
   "id": "bacterial-depression",
   "metadata": {
    "scrolled": true
   },
   "outputs": [
    {
     "name": "stdout",
     "output_type": "stream",
     "text": [
      "+----------------------------------------+------------------+----------+----------+\n",
      "|job_title                               |avg_salary        |min_salary|max_salary|\n",
      "+----------------------------------------+------------------+----------+----------+\n",
      "|3D Computer Vision Researcher           |400000.0          |400000    |400000    |\n",
      "|Lead Data Engineer                      |140333.33333333334|56000     |276000    |\n",
      "|Head of Machine Learning                |6000000.0         |6000000   |6000000   |\n",
      "|Data Specialist                         |165000.0          |165000    |165000    |\n",
      "|Data Analytics Lead                     |405000.0          |405000    |405000    |\n",
      "|Machine Learning Scientist              |158412.5          |12000     |260000    |\n",
      "|Lead Data Analyst                       |569000.0          |87000     |1450000   |\n",
      "|Data Engineering Manager                |119799.8          |51999     |174000    |\n",
      "|Staff Data Scientist                    |105000.0          |105000    |105000    |\n",
      "|ETL Developer                           |50000.0           |50000     |50000     |\n",
      "|Director of Data Engineering            |141250.0          |82500     |200000    |\n",
      "|Product Data Analyst                    |235000.0          |20000     |450000    |\n",
      "|Principal Data Scientist                |206714.2857142857 |130000    |416000    |\n",
      "|AI Scientist                            |290571.4285714286 |12000     |1335000   |\n",
      "|Director of Data Science                |193285.7142857143 |110000    |325000    |\n",
      "|Machine Learning Engineer               |272717.8780487805 |20000     |4900000   |\n",
      "|Lead Data Scientist                     |1101666.6666666667|115000    |3000000   |\n",
      "|Machine Learning Infrastructure Engineer|97333.33333333333 |44000     |195000    |\n",
      "|Data Science Engineer                   |84500.0           |34000     |159500    |\n",
      "|Machine Learning Manager                |157000.0          |157000    |157000    |\n",
      "|Research Scientist                      |110493.6875       |42000     |450000    |\n",
      "|Head of Data                            |156400.0          |30000     |235000    |\n",
      "|Cloud Data Engineer                     |140000.0          |120000    |160000    |\n",
      "|Machine Learning Developer              |100000.0          |100000    |100000    |\n",
      "|Data Scientist                          |508347.2027972028 |4000      |30400000  |\n",
      "|Finance Data Analyst                    |45000.0           |45000     |45000     |\n",
      "|Data Analyst                            |96604.9587628866  |8000      |450000    |\n",
      "|Data Analytics Engineer                 |61750.0           |20000     |110000    |\n",
      "|Data Science Consultant                 |122714.28571428571|54000     |423000    |\n",
      "|Principal Data Engineer                 |328333.3333333333 |185000    |600000    |\n",
      "|Lead Machine Learning Engineer          |80000.0           |80000     |80000     |\n",
      "|ML Engineer                             |2676666.6666666665|14000     |8500000   |\n",
      "|Analytics Engineer                      |175000.0          |135000    |205300    |\n",
      "|Data Science Manager                    |1062598.5833333333|137141    |7000000   |\n",
      "|Business Data Analyst                   |355000.0          |50000     |1400000   |\n",
      "|Principal Data Analyst                  |122500.0          |75000     |170000    |\n",
      "|Applied Machine Learning Scientist      |141350.0          |29000     |423000    |\n",
      "|Financial Data Analyst                  |275000.0          |100000    |450000    |\n",
      "|Data Analytics Manager                  |127134.28571428571|105400    |150260    |\n",
      "|Computer Vision Engineer                |83500.0           |10000     |180000    |\n",
      "|Computer Vision Software Engineer       |100333.33333333333|70000     |150000    |\n",
      "|Big Data Engineer                       |455000.0          |18000     |1672000   |\n",
      "|Head of Data Science                    |146718.75         |85000     |224000    |\n",
      "|NLP Engineer                            |240000.0          |240000    |240000    |\n",
      "|Big Data Architect                      |125000.0          |125000    |125000    |\n",
      "|Applied Data Scientist                  |172400.0          |68000     |380000    |\n",
      "|Data Architect                          |177873.9090909091 |90700     |266400    |\n",
      "|BI Data Analyst                         |1902045.3333333333|9272      |11000000  |\n",
      "|Marketing Data Analyst                  |75000.0           |75000     |75000     |\n",
      "|Data Engineer                           |179210.55303030304|4000      |4450000   |\n",
      "+----------------------------------------+------------------+----------+----------+\n",
      "\n"
     ]
    }
   ],
   "source": [
    "df_analytic.show(100,truncate = False)"
   ]
  },
  {
   "cell_type": "markdown",
   "id": "hazardous-color",
   "metadata": {},
   "source": [
    "now you need to add in df_analytic column row_id, that will show order of all job_titles depending on avg salary. they should be descending"
   ]
  },
  {
   "cell_type": "code",
   "execution_count": 17,
   "id": "nearby-treasurer",
   "metadata": {
    "scrolled": false
   },
   "outputs": [],
   "source": [
    "window_spec = Window.orderBy(F.desc(\"avg_salary\"))"
   ]
  },
  {
   "cell_type": "code",
   "execution_count": 18,
   "id": "593f4986",
   "metadata": {},
   "outputs": [],
   "source": [
    "df_analytic = df_analytic.withColumn(\"row_id\", F.row_number().over(window_spec))"
   ]
  },
  {
   "cell_type": "markdown",
   "id": "documented-catalog",
   "metadata": {},
   "source": [
    "print all data from df_analytic"
   ]
  },
  {
   "cell_type": "code",
   "execution_count": 19,
   "id": "confirmed-monitoring",
   "metadata": {
    "scrolled": true
   },
   "outputs": [
    {
     "name": "stdout",
     "output_type": "stream",
     "text": [
      "+----------------------------------------+------------------+----------+----------+------+\n",
      "|job_title                               |avg_salary        |min_salary|max_salary|row_id|\n",
      "+----------------------------------------+------------------+----------+----------+------+\n",
      "|Head of Machine Learning                |6000000.0         |6000000   |6000000   |1     |\n",
      "|ML Engineer                             |2676666.6666666665|14000     |8500000   |2     |\n",
      "|BI Data Analyst                         |1902045.3333333333|9272      |11000000  |3     |\n",
      "|Lead Data Scientist                     |1101666.6666666667|115000    |3000000   |4     |\n",
      "|Data Science Manager                    |1062598.5833333333|137141    |7000000   |5     |\n",
      "|Lead Data Analyst                       |569000.0          |87000     |1450000   |6     |\n",
      "|Data Scientist                          |508347.2027972028 |4000      |30400000  |7     |\n",
      "|Big Data Engineer                       |455000.0          |18000     |1672000   |8     |\n",
      "|Data Analytics Lead                     |405000.0          |405000    |405000    |9     |\n",
      "|3D Computer Vision Researcher           |400000.0          |400000    |400000    |10    |\n",
      "|Business Data Analyst                   |355000.0          |50000     |1400000   |11    |\n",
      "|Principal Data Engineer                 |328333.3333333333 |185000    |600000    |12    |\n",
      "|AI Scientist                            |290571.4285714286 |12000     |1335000   |13    |\n",
      "|Financial Data Analyst                  |275000.0          |100000    |450000    |14    |\n",
      "|Machine Learning Engineer               |272717.8780487805 |20000     |4900000   |15    |\n",
      "|NLP Engineer                            |240000.0          |240000    |240000    |16    |\n",
      "|Product Data Analyst                    |235000.0          |20000     |450000    |17    |\n",
      "|Principal Data Scientist                |206714.2857142857 |130000    |416000    |18    |\n",
      "|Director of Data Science                |193285.7142857143 |110000    |325000    |19    |\n",
      "|Data Engineer                           |179210.55303030304|4000      |4450000   |20    |\n",
      "|Data Architect                          |177873.9090909091 |90700     |266400    |21    |\n",
      "|Analytics Engineer                      |175000.0          |135000    |205300    |22    |\n",
      "|Applied Data Scientist                  |172400.0          |68000     |380000    |23    |\n",
      "|Data Specialist                         |165000.0          |165000    |165000    |24    |\n",
      "|Machine Learning Scientist              |158412.5          |12000     |260000    |25    |\n",
      "|Machine Learning Manager                |157000.0          |157000    |157000    |26    |\n",
      "|Head of Data                            |156400.0          |30000     |235000    |27    |\n",
      "|Head of Data Science                    |146718.75         |85000     |224000    |28    |\n",
      "|Applied Machine Learning Scientist      |141350.0          |29000     |423000    |29    |\n",
      "|Director of Data Engineering            |141250.0          |82500     |200000    |30    |\n",
      "|Lead Data Engineer                      |140333.33333333334|56000     |276000    |31    |\n",
      "|Cloud Data Engineer                     |140000.0          |120000    |160000    |32    |\n",
      "|Data Analytics Manager                  |127134.28571428571|105400    |150260    |33    |\n",
      "|Big Data Architect                      |125000.0          |125000    |125000    |34    |\n",
      "|Data Science Consultant                 |122714.28571428571|54000     |423000    |35    |\n",
      "|Principal Data Analyst                  |122500.0          |75000     |170000    |36    |\n",
      "|Data Engineering Manager                |119799.8          |51999     |174000    |37    |\n",
      "|Research Scientist                      |110493.6875       |42000     |450000    |38    |\n",
      "|Staff Data Scientist                    |105000.0          |105000    |105000    |39    |\n",
      "|Computer Vision Software Engineer       |100333.33333333333|70000     |150000    |40    |\n",
      "|Machine Learning Developer              |100000.0          |100000    |100000    |41    |\n",
      "|Machine Learning Infrastructure Engineer|97333.33333333333 |44000     |195000    |42    |\n",
      "|Data Analyst                            |96604.9587628866  |8000      |450000    |43    |\n",
      "|Data Science Engineer                   |84500.0           |34000     |159500    |44    |\n",
      "|Computer Vision Engineer                |83500.0           |10000     |180000    |45    |\n",
      "|Lead Machine Learning Engineer          |80000.0           |80000     |80000     |46    |\n",
      "|Marketing Data Analyst                  |75000.0           |75000     |75000     |47    |\n",
      "|Data Analytics Engineer                 |61750.0           |20000     |110000    |48    |\n",
      "|ETL Developer                           |50000.0           |50000     |50000     |49    |\n",
      "|Finance Data Analyst                    |45000.0           |45000     |45000     |50    |\n",
      "+----------------------------------------+------------------+----------+----------+------+\n",
      "\n"
     ]
    }
   ],
   "source": [
    "df_analytic.show(100, truncate = False)"
   ]
  },
  {
   "cell_type": "markdown",
   "id": "satellite-quarter",
   "metadata": {},
   "source": [
    "it isn't beautifull, so we need to put now row_id on first place in df_analytic"
   ]
  },
  {
   "cell_type": "code",
   "execution_count": 20,
   "id": "ranging-tribune",
   "metadata": {
    "scrolled": true
   },
   "outputs": [],
   "source": [
    "df_analytic = df_analytic.select(col(\"row_id\"), *df_analytic.columns[:-1])"
   ]
  },
  {
   "cell_type": "markdown",
   "id": "reliable-amsterdam",
   "metadata": {},
   "source": [
    "print df_analytic now"
   ]
  },
  {
   "cell_type": "code",
   "execution_count": 21,
   "id": "classical-biology",
   "metadata": {},
   "outputs": [
    {
     "name": "stdout",
     "output_type": "stream",
     "text": [
      "+------+----------------------------------------+------------------+----------+----------+\n",
      "|row_id|job_title                               |avg_salary        |min_salary|max_salary|\n",
      "+------+----------------------------------------+------------------+----------+----------+\n",
      "|1     |Head of Machine Learning                |6000000.0         |6000000   |6000000   |\n",
      "|2     |ML Engineer                             |2676666.6666666665|14000     |8500000   |\n",
      "|3     |BI Data Analyst                         |1902045.3333333333|9272      |11000000  |\n",
      "|4     |Lead Data Scientist                     |1101666.6666666667|115000    |3000000   |\n",
      "|5     |Data Science Manager                    |1062598.5833333333|137141    |7000000   |\n",
      "|6     |Lead Data Analyst                       |569000.0          |87000     |1450000   |\n",
      "|7     |Data Scientist                          |508347.2027972028 |4000      |30400000  |\n",
      "|8     |Big Data Engineer                       |455000.0          |18000     |1672000   |\n",
      "|9     |Data Analytics Lead                     |405000.0          |405000    |405000    |\n",
      "|10    |3D Computer Vision Researcher           |400000.0          |400000    |400000    |\n",
      "|11    |Business Data Analyst                   |355000.0          |50000     |1400000   |\n",
      "|12    |Principal Data Engineer                 |328333.3333333333 |185000    |600000    |\n",
      "|13    |AI Scientist                            |290571.4285714286 |12000     |1335000   |\n",
      "|14    |Financial Data Analyst                  |275000.0          |100000    |450000    |\n",
      "|15    |Machine Learning Engineer               |272717.8780487805 |20000     |4900000   |\n",
      "|16    |NLP Engineer                            |240000.0          |240000    |240000    |\n",
      "|17    |Product Data Analyst                    |235000.0          |20000     |450000    |\n",
      "|18    |Principal Data Scientist                |206714.2857142857 |130000    |416000    |\n",
      "|19    |Director of Data Science                |193285.7142857143 |110000    |325000    |\n",
      "|20    |Data Engineer                           |179210.55303030304|4000      |4450000   |\n",
      "|21    |Data Architect                          |177873.9090909091 |90700     |266400    |\n",
      "|22    |Analytics Engineer                      |175000.0          |135000    |205300    |\n",
      "|23    |Applied Data Scientist                  |172400.0          |68000     |380000    |\n",
      "|24    |Data Specialist                         |165000.0          |165000    |165000    |\n",
      "|25    |Machine Learning Scientist              |158412.5          |12000     |260000    |\n",
      "|26    |Machine Learning Manager                |157000.0          |157000    |157000    |\n",
      "|27    |Head of Data                            |156400.0          |30000     |235000    |\n",
      "|28    |Head of Data Science                    |146718.75         |85000     |224000    |\n",
      "|29    |Applied Machine Learning Scientist      |141350.0          |29000     |423000    |\n",
      "|30    |Director of Data Engineering            |141250.0          |82500     |200000    |\n",
      "|31    |Lead Data Engineer                      |140333.33333333334|56000     |276000    |\n",
      "|32    |Cloud Data Engineer                     |140000.0          |120000    |160000    |\n",
      "|33    |Data Analytics Manager                  |127134.28571428571|105400    |150260    |\n",
      "|34    |Big Data Architect                      |125000.0          |125000    |125000    |\n",
      "|35    |Data Science Consultant                 |122714.28571428571|54000     |423000    |\n",
      "|36    |Principal Data Analyst                  |122500.0          |75000     |170000    |\n",
      "|37    |Data Engineering Manager                |119799.8          |51999     |174000    |\n",
      "|38    |Research Scientist                      |110493.6875       |42000     |450000    |\n",
      "|39    |Staff Data Scientist                    |105000.0          |105000    |105000    |\n",
      "|40    |Computer Vision Software Engineer       |100333.33333333333|70000     |150000    |\n",
      "|41    |Machine Learning Developer              |100000.0          |100000    |100000    |\n",
      "|42    |Machine Learning Infrastructure Engineer|97333.33333333333 |44000     |195000    |\n",
      "|43    |Data Analyst                            |96604.9587628866  |8000      |450000    |\n",
      "|44    |Data Science Engineer                   |84500.0           |34000     |159500    |\n",
      "|45    |Computer Vision Engineer                |83500.0           |10000     |180000    |\n",
      "|46    |Lead Machine Learning Engineer          |80000.0           |80000     |80000     |\n",
      "|47    |Marketing Data Analyst                  |75000.0           |75000     |75000     |\n",
      "|48    |Data Analytics Engineer                 |61750.0           |20000     |110000    |\n",
      "|49    |ETL Developer                           |50000.0           |50000     |50000     |\n",
      "|50    |Finance Data Analyst                    |45000.0           |45000     |45000     |\n",
      "+------+----------------------------------------+------------------+----------+----------+\n",
      "\n"
     ]
    }
   ],
   "source": [
    "df_analytic.show(100, truncate = False)"
   ]
  },
  {
   "cell_type": "markdown",
   "id": "hybrid-queensland",
   "metadata": {},
   "source": [
    "here you need to create df_exp_lvl with the biggest usd_salary(biggest_salary) for each experience_level(you need to save all fields like in entire dataframe)"
   ]
  },
  {
   "cell_type": "code",
   "execution_count": 22,
   "id": "dental-wrist",
   "metadata": {
    "scrolled": true
   },
   "outputs": [],
   "source": [
    "window_spec = Window.partitionBy(\"experience_level\").orderBy(col(\"salary_in_usd\").desc())"
   ]
  },
  {
   "cell_type": "markdown",
   "id": "innovative-hierarchy",
   "metadata": {},
   "source": [
    "print here df_exp_lvl"
   ]
  },
  {
   "cell_type": "code",
   "execution_count": 23,
   "id": "standing-toilet",
   "metadata": {},
   "outputs": [],
   "source": [
    "df_exp_lvl = df.withColumn(\"rn\", row_number().over(window_spec)) \\\n",
    "                        .filter(col(\"rn\") == 1) \\\n",
    "                        .drop(\"rn\") \\\n",
    "                        .withColumnRenamed(\"salary_in_usd\", \"biggest_salary\")"
   ]
  },
  {
   "cell_type": "code",
   "execution_count": 24,
   "id": "8cf3e913",
   "metadata": {
    "scrolled": true
   },
   "outputs": [
    {
     "data": {
      "text/html": [
       "<div>\n",
       "<style scoped>\n",
       "    .dataframe tbody tr th:only-of-type {\n",
       "        vertical-align: middle;\n",
       "    }\n",
       "\n",
       "    .dataframe tbody tr th {\n",
       "        vertical-align: top;\n",
       "    }\n",
       "\n",
       "    .dataframe thead th {\n",
       "        text-align: right;\n",
       "    }\n",
       "</style>\n",
       "<table border=\"1\" class=\"dataframe\">\n",
       "  <thead>\n",
       "    <tr style=\"text-align: right;\">\n",
       "      <th></th>\n",
       "      <th>_c0</th>\n",
       "      <th>work_year</th>\n",
       "      <th>experience_level</th>\n",
       "      <th>employment_type</th>\n",
       "      <th>job_title</th>\n",
       "      <th>salary</th>\n",
       "      <th>salary_currency</th>\n",
       "      <th>biggest_salary</th>\n",
       "      <th>employee_residence</th>\n",
       "      <th>remote_ratio</th>\n",
       "      <th>company_location</th>\n",
       "      <th>company_size</th>\n",
       "    </tr>\n",
       "  </thead>\n",
       "  <tbody>\n",
       "    <tr>\n",
       "      <th>0</th>\n",
       "      <td>37</td>\n",
       "      <td>2020</td>\n",
       "      <td>EN</td>\n",
       "      <td>FT</td>\n",
       "      <td>Machine Learning Engineer</td>\n",
       "      <td>250000</td>\n",
       "      <td>USD</td>\n",
       "      <td>250000</td>\n",
       "      <td>US</td>\n",
       "      <td>50</td>\n",
       "      <td>US</td>\n",
       "      <td>L</td>\n",
       "    </tr>\n",
       "    <tr>\n",
       "      <th>1</th>\n",
       "      <td>252</td>\n",
       "      <td>2021</td>\n",
       "      <td>EX</td>\n",
       "      <td>FT</td>\n",
       "      <td>Principal Data Engineer</td>\n",
       "      <td>600000</td>\n",
       "      <td>USD</td>\n",
       "      <td>600000</td>\n",
       "      <td>US</td>\n",
       "      <td>100</td>\n",
       "      <td>US</td>\n",
       "      <td>L</td>\n",
       "    </tr>\n",
       "    <tr>\n",
       "      <th>2</th>\n",
       "      <td>33</td>\n",
       "      <td>2020</td>\n",
       "      <td>MI</td>\n",
       "      <td>FT</td>\n",
       "      <td>Research Scientist</td>\n",
       "      <td>450000</td>\n",
       "      <td>USD</td>\n",
       "      <td>450000</td>\n",
       "      <td>US</td>\n",
       "      <td>0</td>\n",
       "      <td>US</td>\n",
       "      <td>M</td>\n",
       "    </tr>\n",
       "    <tr>\n",
       "      <th>3</th>\n",
       "      <td>63</td>\n",
       "      <td>2020</td>\n",
       "      <td>SE</td>\n",
       "      <td>FT</td>\n",
       "      <td>Data Scientist</td>\n",
       "      <td>412000</td>\n",
       "      <td>USD</td>\n",
       "      <td>412000</td>\n",
       "      <td>US</td>\n",
       "      <td>100</td>\n",
       "      <td>US</td>\n",
       "      <td>L</td>\n",
       "    </tr>\n",
       "  </tbody>\n",
       "</table>\n",
       "</div>"
      ],
      "text/plain": [
       "   _c0  work_year experience_level employment_type                  job_title  \\\n",
       "0   37       2020               EN              FT  Machine Learning Engineer   \n",
       "1  252       2021               EX              FT    Principal Data Engineer   \n",
       "2   33       2020               MI              FT         Research Scientist   \n",
       "3   63       2020               SE              FT             Data Scientist   \n",
       "\n",
       "   salary salary_currency  biggest_salary employee_residence  remote_ratio  \\\n",
       "0  250000             USD          250000                 US            50   \n",
       "1  600000             USD          600000                 US           100   \n",
       "2  450000             USD          450000                 US             0   \n",
       "3  412000             USD          412000                 US           100   \n",
       "\n",
       "  company_location company_size  \n",
       "0               US            L  \n",
       "1               US            L  \n",
       "2               US            M  \n",
       "3               US            L  "
      ]
     },
     "execution_count": 24,
     "metadata": {},
     "output_type": "execute_result"
    }
   ],
   "source": [
    "df_exp_lvl.toPandas()"
   ]
  },
  {
   "cell_type": "code",
   "execution_count": 25,
   "id": "toxic-prompt",
   "metadata": {
    "scrolled": true
   },
   "outputs": [
    {
     "data": {
      "text/html": [
       "<div>\n",
       "<style scoped>\n",
       "    .dataframe tbody tr th:only-of-type {\n",
       "        vertical-align: middle;\n",
       "    }\n",
       "\n",
       "    .dataframe tbody tr th {\n",
       "        vertical-align: top;\n",
       "    }\n",
       "\n",
       "    .dataframe thead th {\n",
       "        text-align: right;\n",
       "    }\n",
       "</style>\n",
       "<table border=\"1\" class=\"dataframe\">\n",
       "  <thead>\n",
       "    <tr style=\"text-align: right;\">\n",
       "      <th></th>\n",
       "      <th>_c0</th>\n",
       "      <th>work_year</th>\n",
       "      <th>experience_level</th>\n",
       "      <th>employment_type</th>\n",
       "      <th>job_title</th>\n",
       "      <th>salary</th>\n",
       "      <th>salary_currency</th>\n",
       "      <th>salary_in_usd</th>\n",
       "      <th>employee_residence</th>\n",
       "      <th>remote_ratio</th>\n",
       "      <th>company_location</th>\n",
       "      <th>company_size</th>\n",
       "    </tr>\n",
       "  </thead>\n",
       "  <tbody>\n",
       "    <tr>\n",
       "      <th>0</th>\n",
       "      <td>0</td>\n",
       "      <td>2020</td>\n",
       "      <td>MI</td>\n",
       "      <td>FT</td>\n",
       "      <td>Data Scientist</td>\n",
       "      <td>70000</td>\n",
       "      <td>EUR</td>\n",
       "      <td>79833</td>\n",
       "      <td>DE</td>\n",
       "      <td>0</td>\n",
       "      <td>DE</td>\n",
       "      <td>L</td>\n",
       "    </tr>\n",
       "    <tr>\n",
       "      <th>1</th>\n",
       "      <td>1</td>\n",
       "      <td>2020</td>\n",
       "      <td>SE</td>\n",
       "      <td>FT</td>\n",
       "      <td>Machine Learning Scientist</td>\n",
       "      <td>260000</td>\n",
       "      <td>USD</td>\n",
       "      <td>260000</td>\n",
       "      <td>JP</td>\n",
       "      <td>0</td>\n",
       "      <td>JP</td>\n",
       "      <td>S</td>\n",
       "    </tr>\n",
       "    <tr>\n",
       "      <th>2</th>\n",
       "      <td>2</td>\n",
       "      <td>2020</td>\n",
       "      <td>SE</td>\n",
       "      <td>FT</td>\n",
       "      <td>Big Data Engineer</td>\n",
       "      <td>85000</td>\n",
       "      <td>GBP</td>\n",
       "      <td>109024</td>\n",
       "      <td>GB</td>\n",
       "      <td>50</td>\n",
       "      <td>GB</td>\n",
       "      <td>M</td>\n",
       "    </tr>\n",
       "    <tr>\n",
       "      <th>3</th>\n",
       "      <td>3</td>\n",
       "      <td>2020</td>\n",
       "      <td>MI</td>\n",
       "      <td>FT</td>\n",
       "      <td>Product Data Analyst</td>\n",
       "      <td>20000</td>\n",
       "      <td>USD</td>\n",
       "      <td>20000</td>\n",
       "      <td>HN</td>\n",
       "      <td>0</td>\n",
       "      <td>HN</td>\n",
       "      <td>S</td>\n",
       "    </tr>\n",
       "    <tr>\n",
       "      <th>4</th>\n",
       "      <td>4</td>\n",
       "      <td>2020</td>\n",
       "      <td>SE</td>\n",
       "      <td>FT</td>\n",
       "      <td>Machine Learning Engineer</td>\n",
       "      <td>150000</td>\n",
       "      <td>USD</td>\n",
       "      <td>150000</td>\n",
       "      <td>US</td>\n",
       "      <td>50</td>\n",
       "      <td>US</td>\n",
       "      <td>L</td>\n",
       "    </tr>\n",
       "    <tr>\n",
       "      <th>...</th>\n",
       "      <td>...</td>\n",
       "      <td>...</td>\n",
       "      <td>...</td>\n",
       "      <td>...</td>\n",
       "      <td>...</td>\n",
       "      <td>...</td>\n",
       "      <td>...</td>\n",
       "      <td>...</td>\n",
       "      <td>...</td>\n",
       "      <td>...</td>\n",
       "      <td>...</td>\n",
       "      <td>...</td>\n",
       "    </tr>\n",
       "    <tr>\n",
       "      <th>602</th>\n",
       "      <td>602</td>\n",
       "      <td>2022</td>\n",
       "      <td>SE</td>\n",
       "      <td>FT</td>\n",
       "      <td>Data Engineer</td>\n",
       "      <td>154000</td>\n",
       "      <td>USD</td>\n",
       "      <td>154000</td>\n",
       "      <td>US</td>\n",
       "      <td>100</td>\n",
       "      <td>US</td>\n",
       "      <td>M</td>\n",
       "    </tr>\n",
       "    <tr>\n",
       "      <th>603</th>\n",
       "      <td>603</td>\n",
       "      <td>2022</td>\n",
       "      <td>SE</td>\n",
       "      <td>FT</td>\n",
       "      <td>Data Engineer</td>\n",
       "      <td>126000</td>\n",
       "      <td>USD</td>\n",
       "      <td>126000</td>\n",
       "      <td>US</td>\n",
       "      <td>100</td>\n",
       "      <td>US</td>\n",
       "      <td>M</td>\n",
       "    </tr>\n",
       "    <tr>\n",
       "      <th>604</th>\n",
       "      <td>604</td>\n",
       "      <td>2022</td>\n",
       "      <td>SE</td>\n",
       "      <td>FT</td>\n",
       "      <td>Data Analyst</td>\n",
       "      <td>129000</td>\n",
       "      <td>USD</td>\n",
       "      <td>129000</td>\n",
       "      <td>US</td>\n",
       "      <td>0</td>\n",
       "      <td>US</td>\n",
       "      <td>M</td>\n",
       "    </tr>\n",
       "    <tr>\n",
       "      <th>605</th>\n",
       "      <td>605</td>\n",
       "      <td>2022</td>\n",
       "      <td>SE</td>\n",
       "      <td>FT</td>\n",
       "      <td>Data Analyst</td>\n",
       "      <td>150000</td>\n",
       "      <td>USD</td>\n",
       "      <td>150000</td>\n",
       "      <td>US</td>\n",
       "      <td>100</td>\n",
       "      <td>US</td>\n",
       "      <td>M</td>\n",
       "    </tr>\n",
       "    <tr>\n",
       "      <th>606</th>\n",
       "      <td>606</td>\n",
       "      <td>2022</td>\n",
       "      <td>MI</td>\n",
       "      <td>FT</td>\n",
       "      <td>AI Scientist</td>\n",
       "      <td>200000</td>\n",
       "      <td>USD</td>\n",
       "      <td>200000</td>\n",
       "      <td>IN</td>\n",
       "      <td>100</td>\n",
       "      <td>US</td>\n",
       "      <td>L</td>\n",
       "    </tr>\n",
       "  </tbody>\n",
       "</table>\n",
       "<p>607 rows × 12 columns</p>\n",
       "</div>"
      ],
      "text/plain": [
       "     _c0  work_year experience_level employment_type  \\\n",
       "0      0       2020               MI              FT   \n",
       "1      1       2020               SE              FT   \n",
       "2      2       2020               SE              FT   \n",
       "3      3       2020               MI              FT   \n",
       "4      4       2020               SE              FT   \n",
       "..   ...        ...              ...             ...   \n",
       "602  602       2022               SE              FT   \n",
       "603  603       2022               SE              FT   \n",
       "604  604       2022               SE              FT   \n",
       "605  605       2022               SE              FT   \n",
       "606  606       2022               MI              FT   \n",
       "\n",
       "                      job_title  salary salary_currency  salary_in_usd  \\\n",
       "0                Data Scientist   70000             EUR          79833   \n",
       "1    Machine Learning Scientist  260000             USD         260000   \n",
       "2             Big Data Engineer   85000             GBP         109024   \n",
       "3          Product Data Analyst   20000             USD          20000   \n",
       "4     Machine Learning Engineer  150000             USD         150000   \n",
       "..                          ...     ...             ...            ...   \n",
       "602               Data Engineer  154000             USD         154000   \n",
       "603               Data Engineer  126000             USD         126000   \n",
       "604                Data Analyst  129000             USD         129000   \n",
       "605                Data Analyst  150000             USD         150000   \n",
       "606                AI Scientist  200000             USD         200000   \n",
       "\n",
       "    employee_residence  remote_ratio company_location company_size  \n",
       "0                   DE             0               DE            L  \n",
       "1                   JP             0               JP            S  \n",
       "2                   GB            50               GB            M  \n",
       "3                   HN             0               HN            S  \n",
       "4                   US            50               US            L  \n",
       "..                 ...           ...              ...          ...  \n",
       "602                 US           100               US            M  \n",
       "603                 US           100               US            M  \n",
       "604                 US             0               US            M  \n",
       "605                 US           100               US            M  \n",
       "606                 IN           100               US            L  \n",
       "\n",
       "[607 rows x 12 columns]"
      ]
     },
     "execution_count": 25,
     "metadata": {},
     "output_type": "execute_result"
    }
   ],
   "source": [
    "df.toPandas()"
   ]
  },
  {
   "cell_type": "markdown",
   "id": "hawaiian-mortgage",
   "metadata": {},
   "source": [
    "create df_best that consists from rows where salary of guy same as biggest salary for other people in his exp_lvl and choose only columns: id, experience_level, biggest_salary, employee_residence"
   ]
  },
  {
   "cell_type": "markdown",
   "id": "complex-librarian",
   "metadata": {},
   "source": [
    "print df_best"
   ]
  },
  {
   "cell_type": "code",
   "execution_count": 26,
   "id": "smart-texas",
   "metadata": {},
   "outputs": [],
   "source": [
    "df_best = df.alias(\"df\").join(df_exp_lvl.alias(\"df_exp\"), col(\"df.salary_in_usd\") == col(\"df_exp.biggest_salary\"), \"inner\").select(col(\"df._c0\"), col(\"df.experience_level\"), col(\"df_exp.biggest_salary\"), col(\"df.employee_residence\"))"
   ]
  },
  {
   "cell_type": "code",
   "execution_count": 27,
   "id": "f3051922",
   "metadata": {},
   "outputs": [
    {
     "data": {
      "text/html": [
       "<div>\n",
       "<style scoped>\n",
       "    .dataframe tbody tr th:only-of-type {\n",
       "        vertical-align: middle;\n",
       "    }\n",
       "\n",
       "    .dataframe tbody tr th {\n",
       "        vertical-align: top;\n",
       "    }\n",
       "\n",
       "    .dataframe thead th {\n",
       "        text-align: right;\n",
       "    }\n",
       "</style>\n",
       "<table border=\"1\" class=\"dataframe\">\n",
       "  <thead>\n",
       "    <tr style=\"text-align: right;\">\n",
       "      <th></th>\n",
       "      <th>_c0</th>\n",
       "      <th>experience_level</th>\n",
       "      <th>biggest_salary</th>\n",
       "      <th>employee_residence</th>\n",
       "    </tr>\n",
       "  </thead>\n",
       "  <tbody>\n",
       "    <tr>\n",
       "      <th>0</th>\n",
       "      <td>33</td>\n",
       "      <td>MI</td>\n",
       "      <td>450000</td>\n",
       "      <td>US</td>\n",
       "    </tr>\n",
       "    <tr>\n",
       "      <th>1</th>\n",
       "      <td>37</td>\n",
       "      <td>EN</td>\n",
       "      <td>250000</td>\n",
       "      <td>US</td>\n",
       "    </tr>\n",
       "    <tr>\n",
       "      <th>2</th>\n",
       "      <td>63</td>\n",
       "      <td>SE</td>\n",
       "      <td>412000</td>\n",
       "      <td>US</td>\n",
       "    </tr>\n",
       "    <tr>\n",
       "      <th>3</th>\n",
       "      <td>97</td>\n",
       "      <td>MI</td>\n",
       "      <td>450000</td>\n",
       "      <td>US</td>\n",
       "    </tr>\n",
       "    <tr>\n",
       "      <th>4</th>\n",
       "      <td>167</td>\n",
       "      <td>EX</td>\n",
       "      <td>250000</td>\n",
       "      <td>US</td>\n",
       "    </tr>\n",
       "    <tr>\n",
       "      <th>5</th>\n",
       "      <td>252</td>\n",
       "      <td>EX</td>\n",
       "      <td>600000</td>\n",
       "      <td>US</td>\n",
       "    </tr>\n",
       "  </tbody>\n",
       "</table>\n",
       "</div>"
      ],
      "text/plain": [
       "   _c0 experience_level  biggest_salary employee_residence\n",
       "0   33               MI          450000                 US\n",
       "1   37               EN          250000                 US\n",
       "2   63               SE          412000                 US\n",
       "3   97               MI          450000                 US\n",
       "4  167               EX          250000                 US\n",
       "5  252               EX          600000                 US"
      ]
     },
     "execution_count": 27,
     "metadata": {},
     "output_type": "execute_result"
    }
   ],
   "source": [
    "df_best.toPandas()"
   ]
  },
  {
   "cell_type": "markdown",
   "id": "integral-brass",
   "metadata": {},
   "source": [
    "drop duplicates if exist by experience_level"
   ]
  },
  {
   "cell_type": "code",
   "execution_count": 28,
   "id": "immune-marine",
   "metadata": {},
   "outputs": [],
   "source": [
    "df_best = df_best.dropDuplicates([\"experience_level\"])"
   ]
  },
  {
   "cell_type": "markdown",
   "id": "connected-credit",
   "metadata": {},
   "source": [
    "print df_best"
   ]
  },
  {
   "cell_type": "code",
   "execution_count": 29,
   "id": "specified-wellington",
   "metadata": {},
   "outputs": [
    {
     "data": {
      "text/html": [
       "<div>\n",
       "<style scoped>\n",
       "    .dataframe tbody tr th:only-of-type {\n",
       "        vertical-align: middle;\n",
       "    }\n",
       "\n",
       "    .dataframe tbody tr th {\n",
       "        vertical-align: top;\n",
       "    }\n",
       "\n",
       "    .dataframe thead th {\n",
       "        text-align: right;\n",
       "    }\n",
       "</style>\n",
       "<table border=\"1\" class=\"dataframe\">\n",
       "  <thead>\n",
       "    <tr style=\"text-align: right;\">\n",
       "      <th></th>\n",
       "      <th>_c0</th>\n",
       "      <th>experience_level</th>\n",
       "      <th>biggest_salary</th>\n",
       "      <th>employee_residence</th>\n",
       "    </tr>\n",
       "  </thead>\n",
       "  <tbody>\n",
       "    <tr>\n",
       "      <th>0</th>\n",
       "      <td>37</td>\n",
       "      <td>EN</td>\n",
       "      <td>250000</td>\n",
       "      <td>US</td>\n",
       "    </tr>\n",
       "    <tr>\n",
       "      <th>1</th>\n",
       "      <td>167</td>\n",
       "      <td>EX</td>\n",
       "      <td>250000</td>\n",
       "      <td>US</td>\n",
       "    </tr>\n",
       "    <tr>\n",
       "      <th>2</th>\n",
       "      <td>33</td>\n",
       "      <td>MI</td>\n",
       "      <td>450000</td>\n",
       "      <td>US</td>\n",
       "    </tr>\n",
       "    <tr>\n",
       "      <th>3</th>\n",
       "      <td>63</td>\n",
       "      <td>SE</td>\n",
       "      <td>412000</td>\n",
       "      <td>US</td>\n",
       "    </tr>\n",
       "  </tbody>\n",
       "</table>\n",
       "</div>"
      ],
      "text/plain": [
       "   _c0 experience_level  biggest_salary employee_residence\n",
       "0   37               EN          250000                 US\n",
       "1  167               EX          250000                 US\n",
       "2   33               MI          450000                 US\n",
       "3   63               SE          412000                 US"
      ]
     },
     "execution_count": 29,
     "metadata": {},
     "output_type": "execute_result"
    }
   ],
   "source": [
    "df_best.toPandas()"
   ]
  },
  {
   "cell_type": "markdown",
   "id": "facial-plant",
   "metadata": {},
   "source": [
    "create df_new_best from df_best without id, and make the next: when exp_level = MI we want middle, when SE we want senior, else Null"
   ]
  },
  {
   "cell_type": "code",
   "execution_count": 30,
   "id": "infinite-retail",
   "metadata": {},
   "outputs": [],
   "source": [
    "df_new_best = df_best.drop(\"_c0\").withColumn(\"level_description\", when(col(\"experience_level\") == \"MI\", \"middle\").\n",
    "when(col(\"experience_level\") == \"SE\", \"senior\").otherwise(None))"
   ]
  },
  {
   "cell_type": "markdown",
   "id": "changing-fairy",
   "metadata": {},
   "source": [
    "print df_new_best"
   ]
  },
  {
   "cell_type": "code",
   "execution_count": 31,
   "id": "endless-framework",
   "metadata": {
    "scrolled": true
   },
   "outputs": [
    {
     "data": {
      "text/html": [
       "<div>\n",
       "<style scoped>\n",
       "    .dataframe tbody tr th:only-of-type {\n",
       "        vertical-align: middle;\n",
       "    }\n",
       "\n",
       "    .dataframe tbody tr th {\n",
       "        vertical-align: top;\n",
       "    }\n",
       "\n",
       "    .dataframe thead th {\n",
       "        text-align: right;\n",
       "    }\n",
       "</style>\n",
       "<table border=\"1\" class=\"dataframe\">\n",
       "  <thead>\n",
       "    <tr style=\"text-align: right;\">\n",
       "      <th></th>\n",
       "      <th>experience_level</th>\n",
       "      <th>biggest_salary</th>\n",
       "      <th>employee_residence</th>\n",
       "      <th>level_description</th>\n",
       "    </tr>\n",
       "  </thead>\n",
       "  <tbody>\n",
       "    <tr>\n",
       "      <th>0</th>\n",
       "      <td>EN</td>\n",
       "      <td>250000</td>\n",
       "      <td>US</td>\n",
       "      <td>None</td>\n",
       "    </tr>\n",
       "    <tr>\n",
       "      <th>1</th>\n",
       "      <td>EX</td>\n",
       "      <td>250000</td>\n",
       "      <td>US</td>\n",
       "      <td>None</td>\n",
       "    </tr>\n",
       "    <tr>\n",
       "      <th>2</th>\n",
       "      <td>MI</td>\n",
       "      <td>450000</td>\n",
       "      <td>US</td>\n",
       "      <td>middle</td>\n",
       "    </tr>\n",
       "    <tr>\n",
       "      <th>3</th>\n",
       "      <td>SE</td>\n",
       "      <td>412000</td>\n",
       "      <td>US</td>\n",
       "      <td>senior</td>\n",
       "    </tr>\n",
       "  </tbody>\n",
       "</table>\n",
       "</div>"
      ],
      "text/plain": [
       "  experience_level  biggest_salary employee_residence level_description\n",
       "0               EN          250000                 US              None\n",
       "1               EX          250000                 US              None\n",
       "2               MI          450000                 US            middle\n",
       "3               SE          412000                 US            senior"
      ]
     },
     "execution_count": 31,
     "metadata": {},
     "output_type": "execute_result"
    }
   ],
   "source": [
    "df_new_best.toPandas()"
   ]
  },
  {
   "cell_type": "markdown",
   "id": "mineral-status",
   "metadata": {},
   "source": [
    "write df_new_best like 1.csv and load then it to df_final"
   ]
  },
  {
   "cell_type": "code",
   "execution_count": 33,
   "id": "baking-progress",
   "metadata": {},
   "outputs": [],
   "source": [
    "df_new_best.write.csv(\"1.csv\", header=True)"
   ]
  },
  {
   "cell_type": "markdown",
   "id": "vocal-shooting",
   "metadata": {},
   "source": [
    "print df_final"
   ]
  },
  {
   "cell_type": "code",
   "execution_count": 34,
   "id": "expired-viewer",
   "metadata": {},
   "outputs": [],
   "source": [
    "df_final = spark.read.csv(\"1.csv\", header=True, inferSchema=True)"
   ]
  },
  {
   "cell_type": "code",
   "execution_count": 35,
   "id": "0ac02c37",
   "metadata": {},
   "outputs": [
    {
     "name": "stdout",
     "output_type": "stream",
     "text": [
      "+----------------+--------------+------------------+-----------------+\n",
      "|experience_level|biggest_salary|employee_residence|level_description|\n",
      "+----------------+--------------+------------------+-----------------+\n",
      "|              EN|        250000|                US|             null|\n",
      "|              EX|        250000|                US|             null|\n",
      "|              MI|        450000|                US|           middle|\n",
      "|              SE|        412000|                US|           senior|\n",
      "+----------------+--------------+------------------+-----------------+\n",
      "\n"
     ]
    }
   ],
   "source": [
    "df_final.show()"
   ]
  },
  {
   "cell_type": "markdown",
   "id": "nutritional-progress",
   "metadata": {},
   "source": [
    "filter df_final to delete experience_level where it Null, then join this table by biggest_salary(salary_in_usd) and employee_residence with entire df"
   ]
  },
  {
   "cell_type": "code",
   "execution_count": 37,
   "id": "small-polymer",
   "metadata": {},
   "outputs": [],
   "source": [
    "df_final = df_final.filter(col(\"experience_level\").isNotNull())"
   ]
  },
  {
   "cell_type": "code",
   "execution_count": 43,
   "id": "190e08b0",
   "metadata": {
    "scrolled": true
   },
   "outputs": [],
   "source": [
    "df_final = df.join(df_final, (df[\"salary_in_usd\"] == df_final[\"biggest_salary\"]) & (df[\"employee_residence\"] == df_final[\"employee_residence\"]), \"inner\")"
   ]
  },
  {
   "cell_type": "markdown",
   "id": "variable-twins",
   "metadata": {},
   "source": [
    "print df_final"
   ]
  },
  {
   "cell_type": "code",
   "execution_count": 44,
   "id": "generic-block",
   "metadata": {},
   "outputs": [
    {
     "name": "stdout",
     "output_type": "stream",
     "text": [
      "+---+---------+----------------+---------------+--------------------+------+---------------+-------------+------------------+------------+----------------+------------+----------------+--------------+------------------+-----------------+\n",
      "|_c0|work_year|experience_level|employment_type|           job_title|salary|salary_currency|salary_in_usd|employee_residence|remote_ratio|company_location|company_size|experience_level|biggest_salary|employee_residence|level_description|\n",
      "+---+---------+----------------+---------------+--------------------+------+---------------+-------------+------------------+------------+----------------+------------+----------------+--------------+------------------+-----------------+\n",
      "| 33|     2020|              MI|             FT|  Research Scientist|450000|            USD|       450000|                US|           0|              US|           M|              MI|        450000|                US|           middle|\n",
      "| 37|     2020|              EN|             FT|Machine Learning ...|250000|            USD|       250000|                US|          50|              US|           L|              EX|        250000|                US|             null|\n",
      "| 37|     2020|              EN|             FT|Machine Learning ...|250000|            USD|       250000|                US|          50|              US|           L|              EN|        250000|                US|             null|\n",
      "| 63|     2020|              SE|             FT|      Data Scientist|412000|            USD|       412000|                US|         100|              US|           L|              SE|        412000|                US|           senior|\n",
      "| 97|     2021|              MI|             FT|Financial Data An...|450000|            USD|       450000|                US|         100|              US|           L|              MI|        450000|                US|           middle|\n",
      "|167|     2021|              EX|             FT|Director of Data ...|250000|            USD|       250000|                US|           0|              US|           L|              EX|        250000|                US|             null|\n",
      "|167|     2021|              EX|             FT|Director of Data ...|250000|            USD|       250000|                US|           0|              US|           L|              EN|        250000|                US|             null|\n",
      "+---+---------+----------------+---------------+--------------------+------+---------------+-------------+------------------+------------+----------------+------------+----------------+--------------+------------------+-----------------+\n",
      "\n"
     ]
    }
   ],
   "source": [
    "df_final.show()"
   ]
  },
  {
   "cell_type": "code",
   "execution_count": 45,
   "id": "65870a11",
   "metadata": {},
   "outputs": [
    {
     "data": {
      "text/html": [
       "<div>\n",
       "<style scoped>\n",
       "    .dataframe tbody tr th:only-of-type {\n",
       "        vertical-align: middle;\n",
       "    }\n",
       "\n",
       "    .dataframe tbody tr th {\n",
       "        vertical-align: top;\n",
       "    }\n",
       "\n",
       "    .dataframe thead th {\n",
       "        text-align: right;\n",
       "    }\n",
       "</style>\n",
       "<table border=\"1\" class=\"dataframe\">\n",
       "  <thead>\n",
       "    <tr style=\"text-align: right;\">\n",
       "      <th></th>\n",
       "      <th>_c0</th>\n",
       "      <th>work_year</th>\n",
       "      <th>experience_level</th>\n",
       "      <th>employment_type</th>\n",
       "      <th>job_title</th>\n",
       "      <th>salary</th>\n",
       "      <th>salary_currency</th>\n",
       "      <th>salary_in_usd</th>\n",
       "      <th>employee_residence</th>\n",
       "      <th>remote_ratio</th>\n",
       "      <th>company_location</th>\n",
       "      <th>company_size</th>\n",
       "      <th>experience_level</th>\n",
       "      <th>biggest_salary</th>\n",
       "      <th>employee_residence</th>\n",
       "      <th>level_description</th>\n",
       "    </tr>\n",
       "  </thead>\n",
       "  <tbody>\n",
       "    <tr>\n",
       "      <th>0</th>\n",
       "      <td>33</td>\n",
       "      <td>2020</td>\n",
       "      <td>MI</td>\n",
       "      <td>FT</td>\n",
       "      <td>Research Scientist</td>\n",
       "      <td>450000</td>\n",
       "      <td>USD</td>\n",
       "      <td>450000</td>\n",
       "      <td>US</td>\n",
       "      <td>0</td>\n",
       "      <td>US</td>\n",
       "      <td>M</td>\n",
       "      <td>MI</td>\n",
       "      <td>450000</td>\n",
       "      <td>US</td>\n",
       "      <td>middle</td>\n",
       "    </tr>\n",
       "    <tr>\n",
       "      <th>1</th>\n",
       "      <td>37</td>\n",
       "      <td>2020</td>\n",
       "      <td>EN</td>\n",
       "      <td>FT</td>\n",
       "      <td>Machine Learning Engineer</td>\n",
       "      <td>250000</td>\n",
       "      <td>USD</td>\n",
       "      <td>250000</td>\n",
       "      <td>US</td>\n",
       "      <td>50</td>\n",
       "      <td>US</td>\n",
       "      <td>L</td>\n",
       "      <td>EX</td>\n",
       "      <td>250000</td>\n",
       "      <td>US</td>\n",
       "      <td>None</td>\n",
       "    </tr>\n",
       "    <tr>\n",
       "      <th>2</th>\n",
       "      <td>37</td>\n",
       "      <td>2020</td>\n",
       "      <td>EN</td>\n",
       "      <td>FT</td>\n",
       "      <td>Machine Learning Engineer</td>\n",
       "      <td>250000</td>\n",
       "      <td>USD</td>\n",
       "      <td>250000</td>\n",
       "      <td>US</td>\n",
       "      <td>50</td>\n",
       "      <td>US</td>\n",
       "      <td>L</td>\n",
       "      <td>EN</td>\n",
       "      <td>250000</td>\n",
       "      <td>US</td>\n",
       "      <td>None</td>\n",
       "    </tr>\n",
       "    <tr>\n",
       "      <th>3</th>\n",
       "      <td>63</td>\n",
       "      <td>2020</td>\n",
       "      <td>SE</td>\n",
       "      <td>FT</td>\n",
       "      <td>Data Scientist</td>\n",
       "      <td>412000</td>\n",
       "      <td>USD</td>\n",
       "      <td>412000</td>\n",
       "      <td>US</td>\n",
       "      <td>100</td>\n",
       "      <td>US</td>\n",
       "      <td>L</td>\n",
       "      <td>SE</td>\n",
       "      <td>412000</td>\n",
       "      <td>US</td>\n",
       "      <td>senior</td>\n",
       "    </tr>\n",
       "    <tr>\n",
       "      <th>4</th>\n",
       "      <td>97</td>\n",
       "      <td>2021</td>\n",
       "      <td>MI</td>\n",
       "      <td>FT</td>\n",
       "      <td>Financial Data Analyst</td>\n",
       "      <td>450000</td>\n",
       "      <td>USD</td>\n",
       "      <td>450000</td>\n",
       "      <td>US</td>\n",
       "      <td>100</td>\n",
       "      <td>US</td>\n",
       "      <td>L</td>\n",
       "      <td>MI</td>\n",
       "      <td>450000</td>\n",
       "      <td>US</td>\n",
       "      <td>middle</td>\n",
       "    </tr>\n",
       "    <tr>\n",
       "      <th>5</th>\n",
       "      <td>167</td>\n",
       "      <td>2021</td>\n",
       "      <td>EX</td>\n",
       "      <td>FT</td>\n",
       "      <td>Director of Data Science</td>\n",
       "      <td>250000</td>\n",
       "      <td>USD</td>\n",
       "      <td>250000</td>\n",
       "      <td>US</td>\n",
       "      <td>0</td>\n",
       "      <td>US</td>\n",
       "      <td>L</td>\n",
       "      <td>EX</td>\n",
       "      <td>250000</td>\n",
       "      <td>US</td>\n",
       "      <td>None</td>\n",
       "    </tr>\n",
       "    <tr>\n",
       "      <th>6</th>\n",
       "      <td>167</td>\n",
       "      <td>2021</td>\n",
       "      <td>EX</td>\n",
       "      <td>FT</td>\n",
       "      <td>Director of Data Science</td>\n",
       "      <td>250000</td>\n",
       "      <td>USD</td>\n",
       "      <td>250000</td>\n",
       "      <td>US</td>\n",
       "      <td>0</td>\n",
       "      <td>US</td>\n",
       "      <td>L</td>\n",
       "      <td>EN</td>\n",
       "      <td>250000</td>\n",
       "      <td>US</td>\n",
       "      <td>None</td>\n",
       "    </tr>\n",
       "  </tbody>\n",
       "</table>\n",
       "</div>"
      ],
      "text/plain": [
       "   _c0  work_year experience_level employment_type                  job_title  \\\n",
       "0   33       2020               MI              FT         Research Scientist   \n",
       "1   37       2020               EN              FT  Machine Learning Engineer   \n",
       "2   37       2020               EN              FT  Machine Learning Engineer   \n",
       "3   63       2020               SE              FT             Data Scientist   \n",
       "4   97       2021               MI              FT     Financial Data Analyst   \n",
       "5  167       2021               EX              FT   Director of Data Science   \n",
       "6  167       2021               EX              FT   Director of Data Science   \n",
       "\n",
       "   salary salary_currency  salary_in_usd employee_residence  remote_ratio  \\\n",
       "0  450000             USD         450000                 US             0   \n",
       "1  250000             USD         250000                 US            50   \n",
       "2  250000             USD         250000                 US            50   \n",
       "3  412000             USD         412000                 US           100   \n",
       "4  450000             USD         450000                 US           100   \n",
       "5  250000             USD         250000                 US             0   \n",
       "6  250000             USD         250000                 US             0   \n",
       "\n",
       "  company_location company_size experience_level  biggest_salary  \\\n",
       "0               US            M               MI          450000   \n",
       "1               US            L               EX          250000   \n",
       "2               US            L               EN          250000   \n",
       "3               US            L               SE          412000   \n",
       "4               US            L               MI          450000   \n",
       "5               US            L               EX          250000   \n",
       "6               US            L               EN          250000   \n",
       "\n",
       "  employee_residence level_description  \n",
       "0                 US            middle  \n",
       "1                 US              None  \n",
       "2                 US              None  \n",
       "3                 US            senior  \n",
       "4                 US            middle  \n",
       "5                 US              None  \n",
       "6                 US              None  "
      ]
     },
     "execution_count": 45,
     "metadata": {},
     "output_type": "execute_result"
    }
   ],
   "source": [
    "df_final.toPandas()"
   ]
  },
  {
   "cell_type": "markdown",
   "id": "variable-moore",
   "metadata": {},
   "source": [
    "last task is to save in variable and then print this variable of the biggest salary_in_usd from df_final"
   ]
  },
  {
   "cell_type": "code",
   "execution_count": 48,
   "id": "individual-institution",
   "metadata": {},
   "outputs": [],
   "source": [
    "max_salary = df_final.select(max(\"salary_in_usd\")).first()[0]\n",
    "# The first() function is used to retrieve the maximum value as a Row object, \n",
    "# and [0] is used to extract the value from the Row. Finally, we print the maximum salary."
   ]
  },
  {
   "cell_type": "code",
   "execution_count": 49,
   "id": "464da6e8",
   "metadata": {},
   "outputs": [
    {
     "name": "stdout",
     "output_type": "stream",
     "text": [
      "Max_salary from final table is:  450000\n"
     ]
    }
   ],
   "source": [
    "print(\"Max_salary from final table is: \", max_salary)"
   ]
  },
  {
   "cell_type": "markdown",
   "id": "stopped-procedure",
   "metadata": {},
   "source": [
    "It is the end of PySpark basics. In other lessons you will learn optimizations technics and how to make distributed system"
   ]
  }
 ],
 "metadata": {
  "kernelspec": {
   "display_name": "Python 3 (ipykernel)",
   "language": "python",
   "name": "python3"
  },
  "language_info": {
   "codemirror_mode": {
    "name": "ipython",
    "version": 3
   },
   "file_extension": ".py",
   "mimetype": "text/x-python",
   "name": "python",
   "nbconvert_exporter": "python",
   "pygments_lexer": "ipython3",
   "version": "3.11.3"
  }
 },
 "nbformat": 4,
 "nbformat_minor": 5
}
